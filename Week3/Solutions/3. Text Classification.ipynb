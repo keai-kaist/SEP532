{
 "cells": [
  {
   "cell_type": "markdown",
   "metadata": {},
   "source": [
    "# SEP532 인공지능 이론과 실제\n",
    "## Deep Learning Practice \n",
    "#### Prof. Ho-Jin Choi\n",
    "#### School of Computing, KAIST\n",
    "\n",
    "---"
   ]
  },
  {
   "cell_type": "markdown",
   "metadata": {},
   "source": [
    "### Text classification with an RNN\n",
    "\n",
    "Let's build text classification model with RNN on the IMDB dataset for sentiment analysis."
   ]
  },
  {
   "cell_type": "code",
   "execution_count": 2,
   "metadata": {},
   "outputs": [],
   "source": [
    "import numpy as np\n",
    "\n",
    "import tensorflow_datasets as tfds\n",
    "import tensorflow as tf"
   ]
  },
  {
   "cell_type": "markdown",
   "metadata": {},
   "source": [
    "#### Setup input pipeline\n",
    "\n",
    "The IMDB large movie review dataset is a binary classification dataset—all the reviews have either a positive or negative sentiment.\n",
    "\n",
    "Download the dataset using [`TFDS`](https://www.tensorflow.org/datasets).\n",
    "- Args of [`tfds.load`](https://www.tensorflow.org/datasets/api_docs/python/tfds/load):\n",
    "    - `name`: str, the registered name of the DatasetBuilder.\n",
    "    - `with_info`: bool, if True, tfds.load will return the tuple (tf.data.Dataset, tfds.core.DatasetInfo) containing the info associated with the builder.\n",
    "    - `as_supervised`: bool, if True, the returned tf.data.Dataset will have a 2-tuple structure (input, label) according to builder.info.supervised_keys. If False, the default, the returned tf.data.Dataset will have a dictionary with all the features."
   ]
  },
  {
   "cell_type": "code",
   "execution_count": 3,
   "metadata": {},
   "outputs": [
    {
     "data": {
      "text/plain": [
       "(TensorSpec(shape=(), dtype=tf.string, name=None),\n",
       " TensorSpec(shape=(), dtype=tf.int64, name=None))"
      ]
     },
     "execution_count": 3,
     "metadata": {},
     "output_type": "execute_result"
    }
   ],
   "source": [
    "dataset, info = tfds.load('imdb_reviews', with_info=True, as_supervised=True)\n",
    "train_dataset, test_dataset = dataset['train'], dataset['test']\n",
    "\n",
    "train_dataset.element_spec"
   ]
  },
  {
   "cell_type": "markdown",
   "metadata": {},
   "source": [
    "Initially this returns a dataset of (text, label pairs):"
   ]
  },
  {
   "cell_type": "code",
   "execution_count": 4,
   "metadata": {},
   "outputs": [
    {
     "name": "stdout",
     "output_type": "stream",
     "text": [
      "text:  b\"This was an absolutely terrible movie. Don't be lured in by Christopher Walken or Michael Ironside. Both are great actors, but this must simply be their worst role in history. Even their great acting could not redeem this movie's ridiculous storyline. This movie is an early nineties US propaganda piece. The most pathetic scenes were those when the Columbian rebels were making their cases for revolutions. Maria Conchita Alonso appeared phony, and her pseudo-love affair with Walken was nothing but a pathetic emotional plug in a movie that was devoid of any real meaning. I am disappointed that there are movies like this, ruining actor's like Christopher Walken's good name. I could barely sit through it.\"\n",
      "label:  0\n"
     ]
    }
   ],
   "source": [
    "for example, label in train_dataset.take(1):\n",
    "    print('text: ', example.numpy())\n",
    "    print('label: ', label.numpy())"
   ]
  },
  {
   "cell_type": "markdown",
   "metadata": {},
   "source": [
    "Next shuffle the data for training and create batches of these (text, label) pairs:"
   ]
  },
  {
   "cell_type": "code",
   "execution_count": 5,
   "metadata": {},
   "outputs": [],
   "source": [
    "BUFFER_SIZE = 10000\n",
    "BATCH_SIZE = 64\n",
    "\n",
    "train_dataset = train_dataset.shuffle(BUFFER_SIZE).batch(BATCH_SIZE).prefetch(tf.data.AUTOTUNE)\n",
    "test_dataset = test_dataset.batch(BATCH_SIZE).prefetch(tf.data.AUTOTUNE)"
   ]
  },
  {
   "cell_type": "code",
   "execution_count": 6,
   "metadata": {},
   "outputs": [
    {
     "name": "stdout",
     "output_type": "stream",
     "text": [
      "texts:  [b\"I caught a bit of this concert on public television and knew I had to have it. The boys give everyone at the Royal Albert an excellent, often thrilling performance complete in every way. Pure, too - no synth, no smoke-shrouded lasers and strobes, no grandiose entrance (and an unstoned, serious, and appreciative audience, all of whom left their bottle rockets at home).<br /><br />If you're a Cream fan (or if you've only heard of them); if you're a blues fan; if you're a rock 'n' roll fan; you will not be disappointed when you view and listen to this DVD. You also will never lose this DVD because you'll never lend it to anyone. (This DVD justifies selfishness! Tell them to get their own!) It's too good and too replayable; you'll want to keep it within easy reach.\"\n",
      " b\"For loyal Duran Duran fans who want to watch a good music video, skip this one. The producers decided to get creative and make this 80's video something of a sci-fi story, involving the evil Barbarella villain from which the band got its name. <br /><br />What makes this idea fail is that right in the middle of some great 80's Duran Duran songs, confusing and annoying cut scenes take place showing the fictional antagonist trying to stop the band at one of their concerts. Not only is the good music repeatedly interrupted, but we have to suffer through some cheap spin-off story hosted by an evil Dr. Mario. It's almost too much to bear. 2/10\"\n",
      " b\"the cover of the box makes this movie look really good, don't be fooled. splatter university came out in 1984 which was the last good year for horror, but this movie sucks. the characters are so annoying. only the teacher is cool. there is like no plot to this movie, who the hell would ever produce this waste of a film?<br /><br />spoilers up ahead<br /><br />the teacher dies in this, and it was a female, we all know that we must have a female surviver, if you're going to break the rules do it in a good horror flick not this waste\"]\n",
      "\n",
      "labels:  [1 0 0]\n"
     ]
    }
   ],
   "source": [
    "for example, label in train_dataset.take(1):\n",
    "    print('texts: ', example.numpy()[:3])\n",
    "    print()\n",
    "    print('labels: ', label.numpy()[:3])"
   ]
  },
  {
   "cell_type": "markdown",
   "metadata": {},
   "source": [
    "#### Create the text encoder\n",
    "The raw text loaded by [`tfds`](https://www.tensorflow.org/datasets/api_docs/python/tfds) needs to be processed before it can be used in a model. The simplest way to process text for training is using the [`experimental.preprocessing.TextVectorization`](https://www.tensorflow.org/api_docs/python/tf/keras/layers/experimental/preprocessing/TextVectorization) layer. This layer has many capabilities, but this practice sticks to the default behavior.\n",
    "\n",
    "Create the layer, and pass the dataset's text to the layer's `.adapt()` method:"
   ]
  },
  {
   "cell_type": "code",
   "execution_count": 7,
   "metadata": {},
   "outputs": [],
   "source": [
    "VOCAB_SIZE = 1000\n",
    "encoder = tf.keras.layers.experimental.preprocessing.TextVectorization(max_tokens=VOCAB_SIZE)\n",
    "encoder.adapt(train_dataset.map(lambda text, label: text))"
   ]
  },
  {
   "cell_type": "markdown",
   "metadata": {},
   "source": [
    "The `.adapt()` method sets the layer's vocabulary. Here are the first 20 tokens. After the padding and unknown tokens they're sorted by frequency:"
   ]
  },
  {
   "cell_type": "code",
   "execution_count": 8,
   "metadata": {},
   "outputs": [
    {
     "data": {
      "text/plain": [
       "array(['', '[UNK]', 'the', 'and', 'a', 'of', 'to', 'is', 'in', 'it', 'i',\n",
       "       'this', 'that', 'br', 'was', 'as', 'for', 'with', 'movie', 'but'],\n",
       "      dtype='<U14')"
      ]
     },
     "execution_count": 8,
     "metadata": {},
     "output_type": "execute_result"
    }
   ],
   "source": [
    "vocab = np.array(encoder.get_vocabulary())\n",
    "vocab[:20]"
   ]
  },
  {
   "cell_type": "markdown",
   "metadata": {},
   "source": [
    "Once the vocabulary is set, the layer can encode text into indices. The tensors of indices are 0-padded to the longest sequence in the batch (unless you set a fixed `output_sequence_length`):"
   ]
  },
  {
   "cell_type": "code",
   "execution_count": 9,
   "metadata": {},
   "outputs": [
    {
     "data": {
      "text/plain": [
       "array([[10,  1,  4, ...,  0,  0,  0],\n",
       "       [16,  1,  1, ...,  0,  0,  0],\n",
       "       [ 2,  1,  5, ...,  0,  0,  0]])"
      ]
     },
     "execution_count": 9,
     "metadata": {},
     "output_type": "execute_result"
    }
   ],
   "source": [
    "encoded_example = encoder(example)[:3].numpy()\n",
    "encoded_example"
   ]
  },
  {
   "cell_type": "markdown",
   "metadata": {},
   "source": [
    "With the default settings, the process is not completely reversible. There are three main reasons for that:\n",
    "1. The default value for `preprocessing.TextVectorization`'s `standardize` argument is \"`lower_and_strip_punctuation`\".\n",
    "2. The limited vocabulary size and lack of character-based fallback results in some unknown tokens."
   ]
  },
  {
   "cell_type": "code",
   "execution_count": 10,
   "metadata": {},
   "outputs": [
    {
     "name": "stdout",
     "output_type": "stream",
     "text": [
      "Original:  b\"I caught a bit of this concert on public television and knew I had to have it. The boys give everyone at the Royal Albert an excellent, often thrilling performance complete in every way. Pure, too - no synth, no smoke-shrouded lasers and strobes, no grandiose entrance (and an unstoned, serious, and appreciative audience, all of whom left their bottle rockets at home).<br /><br />If you're a Cream fan (or if you've only heard of them); if you're a blues fan; if you're a rock 'n' roll fan; you will not be disappointed when you view and listen to this DVD. You also will never lose this DVD because you'll never lend it to anyone. (This DVD justifies selfishness! Tell them to get their own!) It's too good and too replayable; you'll want to keep it within easy reach.\"\n",
      "Round-trip:  i [UNK] a bit of this [UNK] on [UNK] television and knew i had to have it the boys give everyone at the [UNK] [UNK] an excellent often [UNK] performance complete in every way [UNK] too no [UNK] no [UNK] [UNK] and [UNK] no [UNK] [UNK] and an [UNK] serious and [UNK] audience all of whom left their [UNK] [UNK] at [UNK] br if youre a [UNK] fan or if youve only heard of them if youre a [UNK] fan if youre a rock [UNK] [UNK] fan you will not be disappointed when you view and [UNK] to this dvd you also will never [UNK] this dvd because youll never [UNK] it to anyone this dvd [UNK] [UNK] tell them to get their own its too good and too [UNK] youll want to keep it within easy [UNK]                                                                                                                                                                                                                                                                                                                                                                                                                                                                                                                                                                                                                              \n",
      "\n",
      "Original:  b\"For loyal Duran Duran fans who want to watch a good music video, skip this one. The producers decided to get creative and make this 80's video something of a sci-fi story, involving the evil Barbarella villain from which the band got its name. <br /><br />What makes this idea fail is that right in the middle of some great 80's Duran Duran songs, confusing and annoying cut scenes take place showing the fictional antagonist trying to stop the band at one of their concerts. Not only is the good music repeatedly interrupted, but we have to suffer through some cheap spin-off story hosted by an evil Dr. Mario. It's almost too much to bear. 2/10\"\n",
      "Round-trip:  for [UNK] [UNK] [UNK] fans who want to watch a good music video [UNK] this one the [UNK] decided to get [UNK] and make this 80s video something of a scifi story [UNK] the evil [UNK] [UNK] from which the [UNK] got its name br br what makes this idea [UNK] is that right in the middle of some great 80s [UNK] [UNK] songs [UNK] and annoying cut scenes take place showing the [UNK] [UNK] trying to stop the [UNK] at one of their [UNK] not only is the good music [UNK] [UNK] but we have to [UNK] through some cheap [UNK] story [UNK] by an evil dr [UNK] its almost too much to [UNK] [UNK]                                                                                                                                                                                                                                                                                                                                                                                                                                                                                                                                                                                                                                                    \n",
      "\n",
      "Original:  b\"the cover of the box makes this movie look really good, don't be fooled. splatter university came out in 1984 which was the last good year for horror, but this movie sucks. the characters are so annoying. only the teacher is cool. there is like no plot to this movie, who the hell would ever produce this waste of a film?<br /><br />spoilers up ahead<br /><br />the teacher dies in this, and it was a female, we all know that we must have a female surviver, if you're going to break the rules do it in a good horror flick not this waste\"\n",
      "Round-trip:  the [UNK] of the [UNK] makes this movie look really good dont be [UNK] [UNK] [UNK] came out in [UNK] which was the last good year for horror but this movie [UNK] the characters are so annoying only the [UNK] is cool there is like no plot to this movie who the hell would ever [UNK] this waste of a filmbr br [UNK] up [UNK] br the [UNK] [UNK] in this and it was a female we all know that we must have a female [UNK] if youre going to [UNK] the [UNK] do it in a good horror flick not this waste                                                                                                                                                                                                                                                                                                                                                                                                                                                                                                                                                                                                                                                                 \n",
      "\n"
     ]
    }
   ],
   "source": [
    "for n in range(3):\n",
    "    print(\"Original: \", example[n].numpy())\n",
    "    print(\"Round-trip: \", \" \".join(vocab[encoded_example[n]]))\n",
    "    print()"
   ]
  },
  {
   "cell_type": "markdown",
   "metadata": {},
   "source": [
    "#### Create the model\n",
    "![A drawing of the information flow in the model](images/bidirectional.png)\n",
    "\n",
    "Above is a diagram of the model. \n",
    "\n",
    "1. This model can be build as a `tf.keras.Sequential`.\n",
    "2. The first layer is the `encoder`, which converts the text to a sequence of token indices.\n",
    "3. After the encoder is an embedding layer. An embedding layer stores one vector per word. When called, it converts the sequences of word indices to sequences of vectors. These vectors are trainable. After training (on enough data), words with similar meanings often have similar vectors. This index-lookup is much more efficient than the equivalent operation of passing a one-hot encoded vector through a `tf.keras.layers.Dense` layer.\n",
    "4. A recurrent neural network (RNN) processes sequence input by iterating through the elements. RNNs pass the outputs from one timestep to their input on the next timestep. The `tf.keras.layers.Bidirectional` wrapper can also be used with an RNN layer. This propagates the input forward and backwards through the RNN layer and then concatenates the final output. \n",
    "    - The main advantage of a bidirectional RNN is that the signal from the beginning of the input doesn't need to be processed all the way through every timestep to affect the output.  \n",
    "    - The main disadvantage of a bidirectional RNN is that you can't efficiently stream predictions as words are being added to the end.\n",
    "5. After the RNN has converted the sequence to a single vector the two `layers.Dense` do some final processing, and convert from this vector representation to a single logit as the classification output. "
   ]
  },
  {
   "cell_type": "markdown",
   "metadata": {},
   "source": [
    "The code to implement this is below:"
   ]
  },
  {
   "cell_type": "code",
   "execution_count": 11,
   "metadata": {},
   "outputs": [],
   "source": [
    "model = tf.keras.Sequential([\n",
    "    encoder,\n",
    "    tf.keras.layers.Embedding(\n",
    "        input_dim=len(encoder.get_vocabulary()),\n",
    "        output_dim=64,\n",
    "        # Use masking to handle the variable sequence lengths\n",
    "        mask_zero=True),\n",
    "    tf.keras.layers.Bidirectional(tf.keras.layers.LSTM(64)),\n",
    "    tf.keras.layers.Dense(64, activation='relu'),\n",
    "    tf.keras.layers.Dense(1)\n",
    "])"
   ]
  },
  {
   "cell_type": "markdown",
   "metadata": {},
   "source": [
    "Compile the Keras model to configure the training process:"
   ]
  },
  {
   "cell_type": "code",
   "execution_count": 12,
   "metadata": {},
   "outputs": [],
   "source": [
    "model.compile(loss=tf.keras.losses.BinaryCrossentropy(from_logits=True),\n",
    "              optimizer=tf.keras.optimizers.Adam(1e-4),\n",
    "              metrics=['accuracy'])"
   ]
  },
  {
   "cell_type": "markdown",
   "metadata": {},
   "source": [
    "#### Train the model"
   ]
  },
  {
   "cell_type": "code",
   "execution_count": 13,
   "metadata": {},
   "outputs": [
    {
     "name": "stdout",
     "output_type": "stream",
     "text": [
      "Epoch 1/10\n",
      "391/391 [==============================] - 29s 57ms/step - loss: 0.6828 - accuracy: 0.5113 - val_loss: 0.4692 - val_accuracy: 0.7542\n",
      "Epoch 2/10\n",
      "391/391 [==============================] - 21s 53ms/step - loss: 0.4141 - accuracy: 0.8040 - val_loss: 0.3589 - val_accuracy: 0.8354\n",
      "Epoch 3/10\n",
      "391/391 [==============================] - 21s 53ms/step - loss: 0.3444 - accuracy: 0.8460 - val_loss: 0.3535 - val_accuracy: 0.8547\n",
      "Epoch 4/10\n",
      "391/391 [==============================] - 21s 54ms/step - loss: 0.3126 - accuracy: 0.8656 - val_loss: 0.3262 - val_accuracy: 0.8542\n",
      "Epoch 5/10\n",
      "391/391 [==============================] - 21s 53ms/step - loss: 0.3091 - accuracy: 0.8659 - val_loss: 0.3465 - val_accuracy: 0.8599\n",
      "Epoch 6/10\n",
      "391/391 [==============================] - 21s 53ms/step - loss: 0.3078 - accuracy: 0.8728 - val_loss: 0.3220 - val_accuracy: 0.8557\n",
      "Epoch 7/10\n",
      "391/391 [==============================] - 21s 53ms/step - loss: 0.3031 - accuracy: 0.8681 - val_loss: 0.3259 - val_accuracy: 0.8542\n",
      "Epoch 8/10\n",
      "391/391 [==============================] - 21s 52ms/step - loss: 0.2977 - accuracy: 0.8727 - val_loss: 0.3258 - val_accuracy: 0.8458\n",
      "Epoch 9/10\n",
      "391/391 [==============================] - 21s 53ms/step - loss: 0.3070 - accuracy: 0.8676 - val_loss: 0.3253 - val_accuracy: 0.8589\n",
      "Epoch 10/10\n",
      "391/391 [==============================] - 21s 53ms/step - loss: 0.3024 - accuracy: 0.8688 - val_loss: 0.3232 - val_accuracy: 0.8536\n"
     ]
    }
   ],
   "source": [
    "history = model.fit(train_dataset, epochs=10,\n",
    "                    validation_data=test_dataset,\n",
    "                    validation_steps=30)"
   ]
  },
  {
   "cell_type": "code",
   "execution_count": 14,
   "metadata": {},
   "outputs": [
    {
     "name": "stdout",
     "output_type": "stream",
     "text": [
      "391/391 [==============================] - 8s 21ms/step - loss: 0.3190 - accuracy: 0.8519\n",
      "Test Loss: 0.3190028965473175\n",
      "Test Accuracy: 0.8519200086593628\n"
     ]
    }
   ],
   "source": [
    "test_loss, test_acc = model.evaluate(test_dataset)\n",
    "\n",
    "print('Test Loss:', test_loss)\n",
    "print('Test Accuracy:', test_acc)"
   ]
  },
  {
   "cell_type": "code",
   "execution_count": 15,
   "metadata": {},
   "outputs": [
    {
     "data": {
      "text/plain": [
       "(0.0, 0.6554021760821342)"
      ]
     },
     "execution_count": 15,
     "metadata": {},
     "output_type": "execute_result"
    },
    {
     "data": {
      "image/png": "[encoded data removed]",
      "text/plain": [
       "<Figure size 1152x576 with 2 Axes>"
      ]
     },
     "metadata": {
      "needs_background": "light"
     },
     "output_type": "display_data"
    }
   ],
   "source": [
    "import matplotlib.pyplot as plt\n",
    "\n",
    "def plot_graphs(history, metric):\n",
    "    plt.plot(history.history[metric])\n",
    "    plt.plot(history.history['val_'+metric], '')\n",
    "    plt.xlabel(\"Epochs\")\n",
    "    plt.ylabel(metric)\n",
    "    plt.legend([metric, 'val_'+metric])\n",
    "\n",
    "plt.figure(figsize=(16, 8))\n",
    "plt.subplot(1, 2, 1)\n",
    "plot_graphs(history, 'accuracy')\n",
    "plt.ylim(None, 1)\n",
    "plt.subplot(1, 2, 2)\n",
    "plot_graphs(history, 'loss')\n",
    "plt.ylim(0, None)"
   ]
  },
  {
   "cell_type": "markdown",
   "metadata": {},
   "source": [
    "Run a prediction on a new sentence: If the prediction is >= `0.0`, it is positive else it is negative."
   ]
  },
  {
   "cell_type": "code",
   "execution_count": 22,
   "metadata": {},
   "outputs": [],
   "source": [
    "sample_text = ('The movie was cool. The animation and the graphics '\n",
    "               'were out of this world. I would recommend this movie.')\n",
    "predictions = model.predict(np.array([sample_text]))"
   ]
  },
  {
   "cell_type": "markdown",
   "metadata": {},
   "source": [
    "#### Stack two or more LSTM layers\n",
    "\n",
    "Keras recurrent layers have two available modes that are controlled by the `return_sequences` constructor argument:\n",
    "\n",
    "* If `False` it returns only the last output for each input sequence (a 2D tensor of shape (batch_size, output_features)). This is the default, used in the previous model.\n",
    "* If `True` the full sequences of successive outputs for each timestep is returned (a 3D tensor of shape `(batch_size, timesteps, output_features)`).\n",
    "\n",
    "Here is what the flow of information looks like with `return_sequences=True`:\n",
    "\n",
    "![layered_bidirectional](images/layered-bidirectional.png)\n",
    "\n",
    "The interesting thing about using an RNN with return_sequences=True is that the output still has 3-axes, like the input, so it can be passed to another RNN layer, like this:"
   ]
  },
  {
   "cell_type": "code",
   "execution_count": 28,
   "metadata": {},
   "outputs": [],
   "source": [
    "model_stacked = tf.keras.Sequential([\n",
    "    encoder,\n",
    "    tf.keras.layers.Embedding(len(encoder.get_vocabulary()), 64, mask_zero=True),\n",
    "    tf.keras.layers.Bidirectional(tf.keras.layers.LSTM(64, return_sequences=True)),\n",
    "    tf.keras.layers.Bidirectional(tf.keras.layers.LSTM(32)),\n",
    "    tf.keras.layers.Dense(64, activation='relu'),\n",
    "    tf.keras.layers.Dropout(0.5),\n",
    "    tf.keras.layers.Dense(1)\n",
    "])"
   ]
  },
  {
   "cell_type": "code",
   "execution_count": 29,
   "metadata": {},
   "outputs": [],
   "source": [
    "model_stacked.compile(loss=tf.keras.losses.BinaryCrossentropy(from_logits=True),\n",
    "                      optimizer=tf.keras.optimizers.Adam(1e-4),\n",
    "                      metrics=['accuracy'])"
   ]
  },
  {
   "cell_type": "code",
   "execution_count": 30,
   "metadata": {},
   "outputs": [
    {
     "name": "stdout",
     "output_type": "stream",
     "text": [
      "Epoch 1/10\n",
      "391/391 [==============================] - 51s 102ms/step - loss: 0.6767 - accuracy: 0.5174 - val_loss: 0.4042 - val_accuracy: 0.8104\n",
      "Epoch 2/10\n",
      "391/391 [==============================] - 37s 95ms/step - loss: 0.3940 - accuracy: 0.8181 - val_loss: 0.3428 - val_accuracy: 0.8448\n",
      "Epoch 3/10\n",
      "391/391 [==============================] - 38s 96ms/step - loss: 0.3413 - accuracy: 0.8524 - val_loss: 0.3365 - val_accuracy: 0.8552\n",
      "Epoch 4/10\n",
      "391/391 [==============================] - 38s 96ms/step - loss: 0.3152 - accuracy: 0.8665 - val_loss: 0.3207 - val_accuracy: 0.8589\n",
      "Epoch 5/10\n",
      "391/391 [==============================] - 37s 94ms/step - loss: 0.3160 - accuracy: 0.8646 - val_loss: 0.3220 - val_accuracy: 0.8552\n",
      "Epoch 6/10\n",
      "391/391 [==============================] - 37s 95ms/step - loss: 0.3057 - accuracy: 0.8708 - val_loss: 0.3183 - val_accuracy: 0.8568\n",
      "Epoch 7/10\n",
      "391/391 [==============================] - 38s 96ms/step - loss: 0.3057 - accuracy: 0.8689 - val_loss: 0.3213 - val_accuracy: 0.8630\n",
      "Epoch 8/10\n",
      "391/391 [==============================] - 38s 96ms/step - loss: 0.2968 - accuracy: 0.8729 - val_loss: 0.3165 - val_accuracy: 0.8542\n",
      "Epoch 9/10\n",
      "391/391 [==============================] - 38s 96ms/step - loss: 0.3005 - accuracy: 0.8694 - val_loss: 0.3144 - val_accuracy: 0.8635\n",
      "Epoch 10/10\n",
      "391/391 [==============================] - 37s 95ms/step - loss: 0.2924 - accuracy: 0.8731 - val_loss: 0.3202 - val_accuracy: 0.8615\n"
     ]
    }
   ],
   "source": [
    "history = model_stacked.fit(train_dataset, epochs=10,\n",
    "                            validation_data=test_dataset,\n",
    "                            validation_steps=30)"
   ]
  },
  {
   "cell_type": "code",
   "execution_count": 31,
   "metadata": {},
   "outputs": [
    {
     "name": "stdout",
     "output_type": "stream",
     "text": [
      "391/391 [==============================] - 17s 43ms/step - loss: 0.3178 - accuracy: 0.8608\n",
      "Test Loss: 0.31777849793434143\n",
      "Test Accuracy: 0.860759973526001\n"
     ]
    }
   ],
   "source": [
    "test_loss, test_acc = model_stacked.evaluate(test_dataset)\n",
    "\n",
    "print('Test Loss:', test_loss)\n",
    "print('Test Accuracy:', test_acc)"
   ]
  },
  {
   "cell_type": "code",
   "execution_count": 32,
   "metadata": {},
   "outputs": [
    {
     "name": "stdout",
     "output_type": "stream",
     "text": [
      "[[-1.3413177]]\n"
     ]
    }
   ],
   "source": [
    "sample_text = ('The movie was not good. The animation and the graphics '\n",
    "               'were terrible. I would not recommend this movie.')\n",
    "predictions = model_stacked.predict(np.array([sample_text]))\n",
    "print(predictions)"
   ]
  },
  {
   "cell_type": "code",
   "execution_count": 33,
   "metadata": {},
   "outputs": [
    {
     "data": {
      "image/png": "[encoded data removed]",
      "text/plain": [
       "<Figure size 1152x432 with 2 Axes>"
      ]
     },
     "metadata": {
      "needs_background": "light"
     },
     "output_type": "display_data"
    }
   ],
   "source": [
    "plt.figure(figsize=(16, 6))\n",
    "plt.subplot(1, 2, 1)\n",
    "plot_graphs(history, 'accuracy')\n",
    "plt.subplot(1, 2, 2)\n",
    "plot_graphs(history, 'loss')"
   ]
  }
 ],
 "metadata": {
  "kernelspec": {
   "display_name": "Python 3",
   "language": "python",
   "name": "python3"
  },
  "language_info": {
   "codemirror_mode": {
    "name": "ipython",
    "version": 3
   },
   "file_extension": ".py",
   "mimetype": "text/x-python",
   "name": "python",
   "nbconvert_exporter": "python",
   "pygments_lexer": "ipython3",
   "version": "3.8.8"
  }
 },
 "nbformat": 4,
 "nbformat_minor": 4
}
